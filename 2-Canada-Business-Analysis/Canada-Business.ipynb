{
 "cells": [
  {
   "cell_type": "markdown",
   "metadata": {},
   "source": [
    "<h1>Canada Business Bureau</h1>"
   ]
  },
  {
   "cell_type": "code",
   "execution_count": 2,
   "metadata": {},
   "outputs": [],
   "source": [
    "import pandas as pd "
   ]
  },
  {
   "cell_type": "markdown",
   "metadata": {},
   "source": [
    "<h3>Data Read & Clean Up</h3>"
   ]
  },
  {
   "cell_type": "code",
   "execution_count": 3,
   "metadata": {},
   "outputs": [
    {
     "name": "stderr",
     "output_type": "stream",
     "text": [
      "/var/folders/m_/c3cfft1d34jg2yvx6z3cv29h0000gn/T/ipykernel_61351/4089696351.py:5: DtypeWarning: Columns (14,15,19,29,31) have mixed types. Specify dtype option on import or set low_memory=False.\n",
      "  business_df = pd.DataFrame(pd.read_csv(canada_business_list))\n"
     ]
    },
    {
     "name": "stdout",
     "output_type": "stream",
     "text": [
      "<class 'pandas.core.frame.DataFrame'>\n",
      "Index: 446574 entries, 0 to 446574\n",
      "Data columns (total 7 columns):\n",
      " #   Column           Non-Null Count   Dtype \n",
      "---  ------           --------------   ----- \n",
      " 0   business_name    446574 non-null  object\n",
      " 1   business_sector  446574 non-null  object\n",
      " 2   derived_NAICS    446574 non-null  object\n",
      " 3   latitude         446574 non-null  object\n",
      " 4   longitude        446574 non-null  object\n",
      " 5   city             446574 non-null  object\n",
      " 6   provider         446574 non-null  object\n",
      "dtypes: object(7)\n",
      "memory usage: 27.3+ MB\n"
     ]
    }
   ],
   "source": [
    "#Path to database\n",
    "canada_business_list = '/Users/leslieleiva/Documents/GitHub/Canada-Business-Bureau/Resources/ODBus_v1.csv'\n",
    "\n",
    "#Creating dataframe from csv\n",
    "business_df = pd.DataFrame(pd.read_csv(canada_business_list))\n",
    "\n",
    "#Keep only the necessary columns, more\n",
    "business_df = business_df[[\n",
    "    'business_name',\n",
    "    'business_sector',\n",
    "    'derived_NAICS',\n",
    "    'latitude',\n",
    "    'longitude',\n",
    "    'city',\n",
    "    'provider'\n",
    "]]\n",
    "\n",
    "#Drop N/A or Rows with Missing fields\n",
    "business_df = business_df.dropna()\n",
    "\n",
    "business_df.info()"
   ]
  },
  {
   "cell_type": "code",
   "execution_count": 4,
   "metadata": {},
   "outputs": [
    {
     "data": {
      "text/html": [
       "<div>\n",
       "<style scoped>\n",
       "    .dataframe tbody tr th:only-of-type {\n",
       "        vertical-align: middle;\n",
       "    }\n",
       "\n",
       "    .dataframe tbody tr th {\n",
       "        vertical-align: top;\n",
       "    }\n",
       "\n",
       "    .dataframe thead th {\n",
       "        text-align: right;\n",
       "    }\n",
       "</style>\n",
       "<table border=\"1\" class=\"dataframe\">\n",
       "  <thead>\n",
       "    <tr style=\"text-align: right;\">\n",
       "      <th></th>\n",
       "      <th>business_name</th>\n",
       "      <th>business_sector</th>\n",
       "      <th>derived_NAICS</th>\n",
       "      <th>latitude</th>\n",
       "      <th>longitude</th>\n",
       "      <th>city</th>\n",
       "      <th>provider</th>\n",
       "    </tr>\n",
       "  </thead>\n",
       "  <tbody>\n",
       "    <tr>\n",
       "      <th>0</th>\n",
       "      <td>Healthconnect Pharmacy</td>\n",
       "      <td>Community Pharmacy</td>\n",
       "      <td>44</td>\n",
       "      <td>46.09593</td>\n",
       "      <td>-64.87099</td>\n",
       "      <td>Moncton</td>\n",
       "      <td>City of Moncton</td>\n",
       "    </tr>\n",
       "    <tr>\n",
       "      <th>1</th>\n",
       "      <td>Innomar Pharmacy Inc.</td>\n",
       "      <td>Community Pharmacy</td>\n",
       "      <td>44</td>\n",
       "      <td>46.10593</td>\n",
       "      <td>-64.80623</td>\n",
       "      <td>Moncton</td>\n",
       "      <td>City of Moncton</td>\n",
       "    </tr>\n",
       "    <tr>\n",
       "      <th>2</th>\n",
       "      <td>Express Scripts Canada Pharmacy</td>\n",
       "      <td>Community Pharmacy</td>\n",
       "      <td>44</td>\n",
       "      <td>46.10351</td>\n",
       "      <td>-64.70646</td>\n",
       "      <td>Moncton</td>\n",
       "      <td>City of Moncton</td>\n",
       "    </tr>\n",
       "    <tr>\n",
       "      <th>3</th>\n",
       "      <td>Tomavo</td>\n",
       "      <td>Limited Groceries</td>\n",
       "      <td>..</td>\n",
       "      <td>46.10473</td>\n",
       "      <td>-64.81922</td>\n",
       "      <td>Moncton</td>\n",
       "      <td>City of Moncton</td>\n",
       "    </tr>\n",
       "    <tr>\n",
       "      <th>4</th>\n",
       "      <td>Cameron Street Clinic</td>\n",
       "      <td>Community Pharmacy</td>\n",
       "      <td>44</td>\n",
       "      <td>46.08854</td>\n",
       "      <td>-64.78849</td>\n",
       "      <td>Moncton</td>\n",
       "      <td>City of Moncton</td>\n",
       "    </tr>\n",
       "  </tbody>\n",
       "</table>\n",
       "</div>"
      ],
      "text/plain": [
       "                     business_name     business_sector derived_NAICS  \\\n",
       "0           Healthconnect Pharmacy  Community Pharmacy            44   \n",
       "1            Innomar Pharmacy Inc.  Community Pharmacy            44   \n",
       "2  Express Scripts Canada Pharmacy  Community Pharmacy            44   \n",
       "3                           Tomavo   Limited Groceries            ..   \n",
       "4            Cameron Street Clinic  Community Pharmacy            44   \n",
       "\n",
       "   latitude  longitude     city         provider  \n",
       "0  46.09593  -64.87099  Moncton  City of Moncton  \n",
       "1  46.10593  -64.80623  Moncton  City of Moncton  \n",
       "2  46.10351  -64.70646  Moncton  City of Moncton  \n",
       "3  46.10473  -64.81922  Moncton  City of Moncton  \n",
       "4  46.08854  -64.78849  Moncton  City of Moncton  "
      ]
     },
     "execution_count": 4,
     "metadata": {},
     "output_type": "execute_result"
    }
   ],
   "source": [
    "business_df.head()"
   ]
  },
  {
   "cell_type": "markdown",
   "metadata": {},
   "source": [
    "<h1>Business Sector Analysis</h1>"
   ]
  },
  {
   "cell_type": "code",
   "execution_count": 8,
   "metadata": {},
   "outputs": [
    {
     "data": {
      "text/html": [
       "<div>\n",
       "<style scoped>\n",
       "    .dataframe tbody tr th:only-of-type {\n",
       "        vertical-align: middle;\n",
       "    }\n",
       "\n",
       "    .dataframe tbody tr th {\n",
       "        vertical-align: top;\n",
       "    }\n",
       "\n",
       "    .dataframe thead th {\n",
       "        text-align: right;\n",
       "    }\n",
       "</style>\n",
       "<table border=\"1\" class=\"dataframe\">\n",
       "  <thead>\n",
       "    <tr style=\"text-align: right;\">\n",
       "      <th></th>\n",
       "      <th>business_sector</th>\n",
       "      <th>business_name</th>\n",
       "    </tr>\n",
       "  </thead>\n",
       "  <tbody>\n",
       "    <tr>\n",
       "      <th>1</th>\n",
       "      <td>Eating Establishment</td>\n",
       "      <td>37451</td>\n",
       "    </tr>\n",
       "    <tr>\n",
       "      <th>2</th>\n",
       "      <td>Retail Store (Food)</td>\n",
       "      <td>25286</td>\n",
       "    </tr>\n",
       "    <tr>\n",
       "      <th>3</th>\n",
       "      <td>Public Garage</td>\n",
       "      <td>12593</td>\n",
       "    </tr>\n",
       "    <tr>\n",
       "      <th>4</th>\n",
       "      <td>Office</td>\n",
       "      <td>10846</td>\n",
       "    </tr>\n",
       "    <tr>\n",
       "      <th>5</th>\n",
       "      <td>Personal Services Settings</td>\n",
       "      <td>9664</td>\n",
       "    </tr>\n",
       "    <tr>\n",
       "      <th>6</th>\n",
       "      <td>Building Renovator</td>\n",
       "      <td>8244</td>\n",
       "    </tr>\n",
       "    <tr>\n",
       "      <th>7</th>\n",
       "      <td>General Contractor</td>\n",
       "      <td>7544</td>\n",
       "    </tr>\n",
       "    <tr>\n",
       "      <th>8</th>\n",
       "      <td>General Business</td>\n",
       "      <td>7515</td>\n",
       "    </tr>\n",
       "    <tr>\n",
       "      <th>9</th>\n",
       "      <td>Apartment House Strata</td>\n",
       "      <td>5941</td>\n",
       "    </tr>\n",
       "    <tr>\n",
       "      <th>10</th>\n",
       "      <td>Tow Truck Owner</td>\n",
       "      <td>5322</td>\n",
       "    </tr>\n",
       "  </tbody>\n",
       "</table>\n",
       "</div>"
      ],
      "text/plain": [
       "               business_sector  business_name\n",
       "1         Eating Establishment          37451\n",
       "2          Retail Store (Food)          25286\n",
       "3                Public Garage          12593\n",
       "4                       Office          10846\n",
       "5   Personal Services Settings           9664\n",
       "6           Building Renovator           8244\n",
       "7           General Contractor           7544\n",
       "8             General Business           7515\n",
       "9       Apartment House Strata           5941\n",
       "10             Tow Truck Owner           5322"
      ]
     },
     "execution_count": 8,
     "metadata": {},
     "output_type": "execute_result"
    }
   ],
   "source": [
    "#Group by Business Sector\n",
    "business_sector_df = business_df.groupby('business_sector').count().sort_values(by='business_name',ascending=False)\n",
    "\n",
    "#Reset index for graphing\n",
    "business_sector_df = business_sector_df['business_name'].reset_index()\n",
    "\n",
    "#Drop first row that is empty\n",
    "business_sector_df = business_sector_df.drop(0).head(10)\n",
    "\n",
    "\n",
    "\n",
    "#View the top 10 business sectors\n",
    "business_sector_df"
   ]
  },
  {
   "cell_type": "markdown",
   "metadata": {},
   "source": [
    "<h1>Business Locations</h1>"
   ]
  },
  {
   "cell_type": "code",
   "execution_count": null,
   "metadata": {},
   "outputs": [
    {
     "data": {
      "text/html": [
       "<div>\n",
       "<style scoped>\n",
       "    .dataframe tbody tr th:only-of-type {\n",
       "        vertical-align: middle;\n",
       "    }\n",
       "\n",
       "    .dataframe tbody tr th {\n",
       "        vertical-align: top;\n",
       "    }\n",
       "\n",
       "    .dataframe thead th {\n",
       "        text-align: right;\n",
       "    }\n",
       "</style>\n",
       "<table border=\"1\" class=\"dataframe\">\n",
       "  <thead>\n",
       "    <tr style=\"text-align: right;\">\n",
       "      <th></th>\n",
       "      <th>city</th>\n",
       "      <th>business_name</th>\n",
       "    </tr>\n",
       "  </thead>\n",
       "  <tbody>\n",
       "    <tr>\n",
       "      <th>0</th>\n",
       "      <td>Toronto</td>\n",
       "      <td>110438</td>\n",
       "    </tr>\n",
       "    <tr>\n",
       "      <th>1</th>\n",
       "      <td>Vancouver</td>\n",
       "      <td>61890</td>\n",
       "    </tr>\n",
       "    <tr>\n",
       "      <th>2</th>\n",
       "      <td>Edmonton</td>\n",
       "      <td>38591</td>\n",
       "    </tr>\n",
       "    <tr>\n",
       "      <th>3</th>\n",
       "      <td>Calgary</td>\n",
       "      <td>34364</td>\n",
       "    </tr>\n",
       "    <tr>\n",
       "      <th>4</th>\n",
       "      <td>Burnaby</td>\n",
       "      <td>20145</td>\n",
       "    </tr>\n",
       "    <tr>\n",
       "      <th>5</th>\n",
       "      <td>Surrey</td>\n",
       "      <td>18195</td>\n",
       "    </tr>\n",
       "    <tr>\n",
       "      <th>6</th>\n",
       "      <td>Mississauga</td>\n",
       "      <td>17827</td>\n",
       "    </tr>\n",
       "    <tr>\n",
       "      <th>7</th>\n",
       "      <td>Vaughan</td>\n",
       "      <td>11998</td>\n",
       "    </tr>\n",
       "    <tr>\n",
       "      <th>8</th>\n",
       "      <td>Markham</td>\n",
       "      <td>11650</td>\n",
       "    </tr>\n",
       "    <tr>\n",
       "      <th>9</th>\n",
       "      <td>Kelowna</td>\n",
       "      <td>11319</td>\n",
       "    </tr>\n",
       "  </tbody>\n",
       "</table>\n",
       "</div>"
      ],
      "text/plain": [
       "          city  business_name\n",
       "0      Toronto         110438\n",
       "1    Vancouver          61890\n",
       "2     Edmonton          38591\n",
       "3      Calgary          34364\n",
       "4      Burnaby          20145\n",
       "5       Surrey          18195\n",
       "6  Mississauga          17827\n",
       "7      Vaughan          11998\n",
       "8      Markham          11650\n",
       "9      Kelowna          11319"
      ]
     },
     "execution_count": 98,
     "metadata": {},
     "output_type": "execute_result"
    }
   ],
   "source": [
    "locations_df = business_df.groupby('city').count().sort_values(by='business_name',ascending=False)\n",
    "\n",
    "locations_df = locations_df[['business_name']].reset_index().head(10)\n",
    "\n",
    "locations_df"
   ]
  },
  {
   "cell_type": "markdown",
   "metadata": {},
   "source": [
    "<h1>Plots & Graphs</h1>"
   ]
  },
  {
   "cell_type": "code",
   "execution_count": null,
   "metadata": {},
   "outputs": [
    {
     "ename": "AttributeError",
     "evalue": "module 'matplotlib' has no attribute 'subplot'",
     "output_type": "error",
     "traceback": [
      "\u001b[0;31m---------------------------------------------------------------------------\u001b[0m",
      "\u001b[0;31mAttributeError\u001b[0m                            Traceback (most recent call last)",
      "Cell \u001b[0;32mIn[103], line 3\u001b[0m\n\u001b[1;32m      1\u001b[0m \u001b[38;5;28;01mimport\u001b[39;00m \u001b[38;5;21;01mmatplotlib\u001b[39;00m \u001b[38;5;28;01mas\u001b[39;00m \u001b[38;5;21;01mplt\u001b[39;00m \n\u001b[0;32m----> 3\u001b[0m fig, ax \u001b[38;5;241m=\u001b[39m \u001b[43mplt\u001b[49m\u001b[38;5;241;43m.\u001b[39;49m\u001b[43msubplot\u001b[49m()\n\u001b[1;32m      5\u001b[0m ax\u001b[38;5;241m.\u001b[39mbar(business_sector_df[\u001b[38;5;124m'\u001b[39m\u001b[38;5;124mbusiness_sector\u001b[39m\u001b[38;5;124m'\u001b[39m],\n\u001b[1;32m      6\u001b[0m         business_sector_df[\u001b[38;5;124m'\u001b[39m\u001b[38;5;124mbusiness_name\u001b[39m\u001b[38;5;124m'\u001b[39m])\n",
      "File \u001b[0;32m~/Library/Python/3.9/lib/python/site-packages/matplotlib/_api/__init__.py:217\u001b[0m, in \u001b[0;36mcaching_module_getattr.<locals>.__getattr__\u001b[0;34m(name)\u001b[0m\n\u001b[1;32m    215\u001b[0m \u001b[38;5;28;01mif\u001b[39;00m name \u001b[38;5;129;01min\u001b[39;00m props:\n\u001b[1;32m    216\u001b[0m     \u001b[38;5;28;01mreturn\u001b[39;00m props[name]\u001b[38;5;241m.\u001b[39m\u001b[38;5;21m__get__\u001b[39m(instance)\n\u001b[0;32m--> 217\u001b[0m \u001b[38;5;28;01mraise\u001b[39;00m \u001b[38;5;167;01mAttributeError\u001b[39;00m(\n\u001b[1;32m    218\u001b[0m     \u001b[38;5;124mf\u001b[39m\u001b[38;5;124m\"\u001b[39m\u001b[38;5;124mmodule \u001b[39m\u001b[38;5;132;01m{\u001b[39;00m\u001b[38;5;28mcls\u001b[39m\u001b[38;5;241m.\u001b[39m\u001b[38;5;18m__module__\u001b[39m\u001b[38;5;132;01m!r}\u001b[39;00m\u001b[38;5;124m has no attribute \u001b[39m\u001b[38;5;132;01m{\u001b[39;00mname\u001b[38;5;132;01m!r}\u001b[39;00m\u001b[38;5;124m\"\u001b[39m)\n",
      "\u001b[0;31mAttributeError\u001b[0m: module 'matplotlib' has no attribute 'subplot'"
     ]
    }
   ],
   "source": [
    "import matplotlib as plt \n",
    "\n",
    "fig, ax = plt.subplot()\n",
    "\n",
    "ax.bar(business_sector_df['business_sector'],\n",
    "        business_sector_df['business_name'])\n",
    "\n",
    "NyNeeKa"
   ]
  }
 ],
 "metadata": {
  "kernelspec": {
   "display_name": "Python 3",
   "language": "python",
   "name": "python3"
  },
  "language_info": {
   "codemirror_mode": {
    "name": "ipython",
    "version": 3
   },
   "file_extension": ".py",
   "mimetype": "text/x-python",
   "name": "python",
   "nbconvert_exporter": "python",
   "pygments_lexer": "ipython3",
   "version": "3.9.6"
  }
 },
 "nbformat": 4,
 "nbformat_minor": 2
}
