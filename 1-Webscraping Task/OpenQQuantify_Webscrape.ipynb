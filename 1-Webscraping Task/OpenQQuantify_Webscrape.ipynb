{
 "cells": [
  {
   "cell_type": "markdown",
   "metadata": {},
   "source": [
    "<h1>OpenQQuantify Webscrape</h1>"
   ]
  },
  {
   "cell_type": "code",
   "execution_count": 1,
   "metadata": {},
   "outputs": [
    {
     "name": "stderr",
     "output_type": "stream",
     "text": [
      "/Users/leslieleiva/Library/Python/3.9/lib/python/site-packages/urllib3/__init__.py:35: NotOpenSSLWarning: urllib3 v2 only supports OpenSSL 1.1.1+, currently the 'ssl' module is compiled with 'LibreSSL 2.8.3'. See: https://github.com/urllib3/urllib3/issues/3020\n",
      "  warnings.warn(\n"
     ]
    },
    {
     "name": "stdout",
     "output_type": "stream",
     "text": [
      "Downloaded logo.png from https://www.openqquantify.com/\n",
      "Downloaded logo.png from https://www.openqquantify.com/about_us\n",
      "Downloaded LLM.jpg from https://www.openqquantify.com/about_us\n",
      "Downloaded architectural-blueprints.jpg from https://www.openqquantify.com/about_us\n",
      "Downloaded GameFactory.jpg from https://www.openqquantify.com/about_us\n",
      "Downloaded Venkata.jpeg from https://www.openqquantify.com/about_us\n",
      "Downloaded Tianren.jpeg from https://www.openqquantify.com/about_us\n",
      "Downloaded Pedro.jpeg from https://www.openqquantify.com/about_us\n",
      "Downloaded Joey.png from https://www.openqquantify.com/about_us\n",
      "Downloaded Arpan.png from https://www.openqquantify.com/about_us\n",
      "Downloaded Harsha.png from https://www.openqquantify.com/about_us\n",
      "Downloaded Dhruv.png from https://www.openqquantify.com/about_us\n",
      "Downloaded Mic.jpeg from https://www.openqquantify.com/about_us\n",
      "Downloaded Paul.png from https://www.openqquantify.com/about_us\n",
      "Downloaded Adam.png from https://www.openqquantify.com/about_us\n",
      "Downloaded Ron.png from https://www.openqquantify.com/about_us\n",
      "Downloaded Woman.png from https://www.openqquantify.com/about_us\n",
      "Downloaded logo.png from https://www.openqquantify.com/fundus\n",
      "Downloaded logo.png from https://www.openqquantify.com/membership\n",
      "Downloaded logo.png from https://www.openqquantify.com/cryptodonation\n",
      "Downloaded base.svg from https://www.openqquantify.com/cryptodonation\n",
      "Downloaded matic.svg from https://www.openqquantify.com/cryptodonation\n",
      "Downloaded eth.svg from https://www.openqquantify.com/cryptodonation\n",
      "Downloaded electronics.png from https://www.openqquantify.com/Research_and_Blogs\n",
      "Downloaded artificial-intelligence.png from https://www.openqquantify.com/Research_and_Blogs\n",
      "Downloaded circuit.png from https://www.openqquantify.com/Research_and_Blogs\n",
      "Downloaded chip.png from https://www.openqquantify.com/Research_and_Blogs\n",
      "Downloaded chip.png from https://www.openqquantify.com/Research_and_Blogs\n",
      "Downloaded circuit.png from https://www.openqquantify.com/Research_and_Blogs\n",
      "Downloaded electronics.png from https://www.openqquantify.com/Research_and_Blogs\n",
      "Downloaded artificial-intelligence.png from https://www.openqquantify.com/Research_and_Blogs\n"
     ]
    }
   ],
   "source": [
    "#Import dependencies\n",
    "import pandas as pd \n",
    "import os\n",
    "import requests\n",
    "from bs4 import BeautifulSoup\n",
    "from urllib.parse import urljoin\n",
    "\n",
    "# List of URLs to scrape\n",
    "urls = [\n",
    "    \"https://www.openqquantify.com/\",\n",
    "    \"https://www.openqquantify.com/about_us\",\n",
    "    \"https://www.openqquantify.com/fundus\",\n",
    "    \"https://www.openqquantify.com/membership\",\n",
    "    \"https://www.openqquantify.com/cryptodonation\",\n",
    "    \"https://www.openqquantify.com/electric_components\",\n",
    "    \"https://www.openqquantify.com/Research_and_Blogs\"\n",
    "]\n",
    "\n",
    "# Create a folder to save images\n",
    "if not os.path.exists(\"images\"):\n",
    "    os.makedirs(\"images\")\n",
    "\n",
    "def download_images_from_url(url):\n",
    "    # Send an HTTP request to the URL\n",
    "    response = requests.get(url)\n",
    "\n",
    "    # Check if the request was successful\n",
    "    if response.status_code == 200:\n",
    "        # Parse the HTML content\n",
    "        soup = BeautifulSoup(response.content, \"html.parser\")\n",
    "\n",
    "        # Find all image tags\n",
    "        img_tags = soup.find_all(\"img\")\n",
    "\n",
    "        # Loop through the image tags and download the images\n",
    "        for img in img_tags:\n",
    "            img_url = img.get(\"src\")\n",
    "            # Make sure the image URL is absolute\n",
    "            img_url = urljoin(url, img_url)\n",
    "            # Get the image filename\n",
    "            img_name = os.path.basename(img_url)\n",
    "            # Download the image and save it to the images folder\n",
    "            img_response = requests.get(img_url)\n",
    "            if img_response.status_code == 200:\n",
    "                img_path = os.path.join(\"images\", img_name)\n",
    "                with open(img_path, \"wb\") as f:\n",
    "                    f.write(img_response.content)\n",
    "                print(f\"Downloaded {img_name} from {url}\")\n",
    "            else:\n",
    "                print(f\"Failed to download {img_url}\")\n",
    "    else:\n",
    "        print(f\"Failed to retrieve the page. Status code: {response.status_code}\")\n",
    "\n",
    "# Loop through the list of URLs and scrape images from each one\n",
    "for url in urls:\n",
    "    download_images_from_url(url)"
   ]
  },
  {
   "cell_type": "code",
   "execution_count": 2,
   "metadata": {},
   "outputs": [
    {
     "name": "stdout",
     "output_type": "stream",
     "text": [
      "Saved text from https://www.openqquantify.com/ to text_files/page_1.txt\n",
      "Saved text from https://www.openqquantify.com/about_us to text_files/page_2.txt\n",
      "Saved text from https://www.openqquantify.com/fundus to text_files/page_3.txt\n",
      "Saved text from https://www.openqquantify.com/membership to text_files/page_4.txt\n",
      "Saved text from https://www.openqquantify.com/cryptodonation to text_files/page_5.txt\n",
      "Saved text from https://www.openqquantify.com/electric_components to text_files/page_6.txt\n",
      "Saved text from https://www.openqquantify.com/Research_and_Blogs to text_files/page_7.txt\n"
     ]
    }
   ],
   "source": [
    "# Create a folder to save text files\n",
    "if not os.path.exists(\"text_files\"):\n",
    "    os.makedirs(\"text_files\")\n",
    "\n",
    "def save_text_from_url(url, file_number):\n",
    "    # Send an HTTP request to the URL\n",
    "    response = requests.get(url)\n",
    "\n",
    "    # Check if the request was successful\n",
    "    if response.status_code == 200:\n",
    "        # Parse the HTML content\n",
    "        soup = BeautifulSoup(response.content, \"html.parser\")\n",
    "\n",
    "        # Extract the main text from the webpage\n",
    "        # This might need to be adjusted based on the structure of the webpage\n",
    "        # Here we use the <body> tag as a generic example\n",
    "        text = soup.get_text(separator=\"\\n\", strip=True)\n",
    "\n",
    "        # Define the filename based on the URL or file_number\n",
    "        filename = f\"text_files/page_{file_number}.txt\"\n",
    "\n",
    "        # Save the text to a file\n",
    "        with open(filename, \"w\", encoding=\"utf-8\") as f:\n",
    "            f.write(text)\n",
    "\n",
    "        print(f\"Saved text from {url} to {filename}\")\n",
    "    else:\n",
    "        print(f\"Failed to retrieve the page. Status code: {response.status_code}\")\n",
    "\n",
    "# Loop through the list of URLs and scrape text from each one\n",
    "for i, url in enumerate(urls, start=1):\n",
    "    save_text_from_url(url, i)"
   ]
  }
 ],
 "metadata": {
  "kernelspec": {
   "display_name": "Python 3",
   "language": "python",
   "name": "python3"
  },
  "language_info": {
   "codemirror_mode": {
    "name": "ipython",
    "version": 3
   },
   "file_extension": ".py",
   "mimetype": "text/x-python",
   "name": "python",
   "nbconvert_exporter": "python",
   "pygments_lexer": "ipython3",
   "version": "3.9.6"
  }
 },
 "nbformat": 4,
 "nbformat_minor": 2
}
